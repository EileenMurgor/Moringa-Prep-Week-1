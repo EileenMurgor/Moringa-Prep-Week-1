{
  "nbformat": 4,
  "nbformat_minor": 0,
  "metadata": {
    "colab": {
      "name": "Copy of Python Programming: Variables, Printing, Comments, Operators and Input",
      "provenance": [],
      "collapsed_sections": [
        "ouu4WxP3MIgj",
        "Q9nYivGzNDz8",
        "ewLHJRjljHm2",
        "ZCa4gqEhMQeX",
        "9g9cO9kTj7eS",
        "enegx82E43R0",
        "O8SLfCskkHv4",
        "UgmQhU5qeG8x",
        "8MEIfFSclWvn",
        "wCNLWKgJeLJn",
        "eEu2bBRRlo1e"
      ],
      "toc_visible": true,
      "include_colab_link": true
    },
    "kernelspec": {
      "name": "python3",
      "display_name": "Python 3"
    }
  },
  "cells": [
    {
      "cell_type": "markdown",
      "metadata": {
        "id": "view-in-github",
        "colab_type": "text"
      },
      "source": [
        "<a href=\"https://colab.research.google.com/github/EileenMurgor/Moringa-Prep-Week-1/blob/main/Copy_of_Python_Programming_Variables%2C_Printing%2C_Comments%2C_Operators_and_Input.ipynb\" target=\"_parent\"><img src=\"https://colab.research.google.com/assets/colab-badge.svg\" alt=\"Open In Colab\"/></a>"
      ]
    },
    {
      "cell_type": "markdown",
      "metadata": {
        "id": "yP8LWf2IYcPt"
      },
      "source": [
        "# Variables, Printing, Comments, Operators and Input"
      ]
    },
    {
      "cell_type": "markdown",
      "metadata": {
        "id": "ZJUYY3Kvm4jW"
      },
      "source": [
        "<font color=\"green\">*To start working on this notebook, or any other notebook that we will use in this course, we will need to save our own copy of it. We can do this by clicking File > Save a Copy in Drive. We will then be able to make edits to our own copy of this notebook.*</font>\n",
        "\n",
        "---\n",
        "\n"
      ]
    },
    {
      "cell_type": "markdown",
      "metadata": {
        "id": "ouu4WxP3MIgj"
      },
      "source": [
        "## 1.0 Introduction"
      ]
    },
    {
      "cell_type": "markdown",
      "metadata": {
        "id": "FpRH6APAK3vV"
      },
      "source": [
        "Python is a programming language that is popularly used for data science. In this section we will get to learn the basics of the python programming language. More specifically, we will get to learn about printing, comments, variables operators and Input.\n",
        "\n",
        "---\n",
        "\n",
        "\n",
        "\n",
        "\n",
        "\n"
      ]
    },
    {
      "cell_type": "markdown",
      "metadata": {
        "id": "7LQwxB9bVRP1"
      },
      "source": [
        "Let's now swiftly begin to write code. Code is a set of instructions that a programmer writes so as to perform a particular task. Code can be written to perform calculations, move a robotic arm, perform analysis etc. During the course of the Moringa Data Science program, we will write alot of code and and this will help you become more confortable at solving a diverse of data science problems. \n",
        "\n",
        "We will also be using Colaboratory, which is an environment that we can use to run our code. This will eliminate the need to spend alot of time installing and configuring your environment and help you spend more time on learning how to write effective code.\n",
        "\n",
        "The page that we are currently using is called a notebook, while the different sections of this notebook are called cells. The cells can be either code or text. In order to start using a ready created notebook just like this one, we will have to first save a copy of this note book on drive i.e. visit File > Save a copy in Drive. This will allow us to have our own copy of the notebook and update any changes we want for example adding code. \n",
        "\n",
        "In order to run our code as shown in the example below, we can drag our mouse to the left of the cell and click on the circular icon with a triangle pointing to the right. Alternatively, we can click inside the cell which we want to run, then press shift+return buttons on our keyboard, all at the same time.\n",
        "\n"
      ]
    },
    {
      "cell_type": "code",
      "metadata": {
        "id": "STRIQLywyUzJ",
        "colab": {
          "base_uri": "https://localhost:8080/"
        },
        "outputId": "2bf3d632-e3ea-44eb-cea0-60248eb4cc01"
      },
      "source": [
        "# Example 1\n",
        "# \n",
        "print(\"I just ran my first python code\")"
      ],
      "execution_count": null,
      "outputs": [
        {
          "output_type": "stream",
          "text": [
            "I just ran my first python code\n"
          ],
          "name": "stdout"
        }
      ]
    },
    {
      "cell_type": "markdown",
      "metadata": {
        "id": "DQXZu9wpDN5E"
      },
      "source": [
        "Don't worry, the first run of the code will take a few seconds to run. Thereafter, the running of our code will be much more faster. As we have also seen, our code is displayed at the bottom of the cell. This section of the cell is called the console and its where the output of our code will always be displayed."
      ]
    },
    {
      "cell_type": "markdown",
      "metadata": {
        "id": "Q9nYivGzNDz8"
      },
      "source": [
        "## 1.1 Printing\n"
      ]
    },
    {
      "cell_type": "markdown",
      "metadata": {
        "id": "K2Y5xqKgKwWF"
      },
      "source": [
        "The second thing that you must have noted in that line of code that we've just ran, is the keyword \"print\". This keyword is meant to print out any text that goes into the following parenthesis. By printing out, we mean outputing our code in the console.  As we continue learning python, we will also come across other keywords that are used to perform different tasks. Such keywords which have two brackets as print() are called functions. In the above example, we used the function print(). We shouldn't now worry about what these functions are as we will learn about them later in the course."
      ]
    },
    {
      "cell_type": "markdown",
      "metadata": {
        "id": "ewLHJRjljHm2"
      },
      "source": [
        "### <font color = 'green'> 1.1 Challenges</font>"
      ]
    },
    {
      "cell_type": "code",
      "metadata": {
        "id": "A9EAzlEUjKDf",
        "colab": {
          "base_uri": "https://localhost:8080/"
        },
        "outputId": "bba27842-b17b-4066-a2b7-3e12aef25c0c"
      },
      "source": [
        "# Challenge 1:\n",
        "# Let's now print out your name in the console of this cell.\n",
        "# Replace the text \"OUR CODE GOES HERE\" with the code that you will write \n",
        "# and do likewise to the following examples.\n",
        "#\n",
        "\n",
        "print(\"Eileen Murgor\")"
      ],
      "execution_count": null,
      "outputs": [
        {
          "output_type": "stream",
          "text": [
            "Eileen Murgor\n"
          ],
          "name": "stdout"
        }
      ]
    },
    {
      "cell_type": "code",
      "metadata": {
        "id": "Ffeem6qVjKar",
        "colab": {
          "base_uri": "https://localhost:8080/"
        },
        "outputId": "5d7ca7d1-b365-4a8e-a6fc-91e6db6095b7"
      },
      "source": [
        "# Challenge 2:\n",
        "# Let's print \"I am a Moringa Data Science Student\" below\n",
        "#\n",
        "\n",
        "print(\"I am a Moringa Data Science Student\")"
      ],
      "execution_count": null,
      "outputs": [
        {
          "output_type": "stream",
          "text": [
            "I am a Moringa Data Science Student\n"
          ],
          "name": "stdout"
        }
      ]
    },
    {
      "cell_type": "code",
      "metadata": {
        "id": "B3681apHjKRN",
        "colab": {
          "base_uri": "https://localhost:8080/"
        },
        "outputId": "c2f3900d-67e2-4493-c707-0d11f423563f"
      },
      "source": [
        "# Challenge 3:\n",
        "# Print out the sum of 44 and 22 below\n",
        "# NB: We need to see 44 + 22 in our code \n",
        "# \n",
        "\n",
        "x= 44+22\n",
        "print(x)"
      ],
      "execution_count": null,
      "outputs": [
        {
          "output_type": "stream",
          "text": [
            "66\n"
          ],
          "name": "stdout"
        }
      ]
    },
    {
      "cell_type": "markdown",
      "metadata": {
        "id": "ZCa4gqEhMQeX"
      },
      "source": [
        "## 1.2 Comments "
      ]
    },
    {
      "cell_type": "markdown",
      "metadata": {
        "id": "gnuZm4DJf46i"
      },
      "source": [
        "In this section, we will learn about another key concept of programming - Comments. \n",
        "\n",
        "Programmers and Data Scientists use comments to explain what their code means. These comments are acually pieces of code that do not get translated by the computer. We will use them as helpful messages that we leave within our code. \n",
        "\n",
        "Comments are created by putthing a hash character(#) before the line we would like the computer to ignore. By doing that we would say that we have commented out that line. \n",
        "\n",
        "For example, in the cell below, the first line is the commented out line in the code. It explains what the following code means. "
      ]
    },
    {
      "cell_type": "code",
      "metadata": {
        "id": "xJBU9EQoYcPt",
        "colab": {
          "base_uri": "https://localhost:8080/"
        },
        "outputId": "d2494475-e8c4-4078-829a-aacb0a239ec5"
      },
      "source": [
        "# Example 1\n",
        "# The code below will print out the statement \"I already love Python\". \n",
        "# Let's press the shortcut shift + return (enter button) at the same time\n",
        "# to run the code in this cell. \n",
        "# \n",
        "print ('I already love Python')"
      ],
      "execution_count": null,
      "outputs": [
        {
          "output_type": "stream",
          "text": [
            "I already love Python\n"
          ],
          "name": "stdout"
        }
      ]
    },
    {
      "cell_type": "markdown",
      "metadata": {
        "id": "cXhURK-yvBfu"
      },
      "source": [
        "Good! Let's now comment out the code in the following cell and later run the code. By uncommenting we mean removing the last line # character before print."
      ]
    },
    {
      "cell_type": "code",
      "metadata": {
        "id": "ZQj19k6kvLpy",
        "colab": {
          "base_uri": "https://localhost:8080/"
        },
        "outputId": "89389d67-30d0-41a1-c810-46270d7c1351"
      },
      "source": [
        "# Example 2\n",
        "# Code below prints out \"My home is Kenya, all wild and wonderful!\"\n",
        "print(\"My home is Kenya, all wild and wonderful!\")"
      ],
      "execution_count": null,
      "outputs": [
        {
          "output_type": "stream",
          "text": [
            "My home is Kenya, all wild and wonderful!\n"
          ],
          "name": "stdout"
        }
      ]
    },
    {
      "cell_type": "markdown",
      "metadata": {
        "id": "ai0VXezYyCVl"
      },
      "source": [
        "If we'd like to make multiline comments, we can also use the # character as shown below:"
      ]
    },
    {
      "cell_type": "code",
      "metadata": {
        "id": "9Ap2sfRVyA8s",
        "colab": {
          "base_uri": "https://localhost:8080/"
        },
        "outputId": "74853d6e-c2e0-4525-80da-ffadad20f6a6"
      },
      "source": [
        "# Example 3\n",
        "# The following line of code prints out \n",
        "# \"I have just began my Data science journey\" in the console\n",
        "# \n",
        "print(\"I have just began my data science journey\")"
      ],
      "execution_count": null,
      "outputs": [
        {
          "output_type": "stream",
          "text": [
            "I have just began my data science journey\n"
          ],
          "name": "stdout"
        }
      ]
    },
    {
      "cell_type": "markdown",
      "metadata": {
        "id": "9g9cO9kTj7eS"
      },
      "source": [
        "### <font color = 'green'> 1.2 Challenges</font> "
      ]
    },
    {
      "cell_type": "code",
      "metadata": {
        "id": "X6FOU-U5j1_0",
        "colab": {
          "base_uri": "https://localhost:8080/"
        },
        "outputId": "c24634d3-2267-44a4-ab7e-fcc6e59b3c3a"
      },
      "source": [
        "# Challenge 1:\n",
        "# We now add multiline comments that explain what happens to a line \n",
        "# that prints out the name of your home town below \n",
        "# The code below prints out \n",
        "# \"Eldoret\" which is the name of my home town\n",
        "\n",
        "print(\"Eldoret\")"
      ],
      "execution_count": null,
      "outputs": [
        {
          "output_type": "stream",
          "text": [
            "Eldoret\n"
          ],
          "name": "stdout"
        }
      ]
    },
    {
      "cell_type": "code",
      "metadata": {
        "id": "TUlfErrLj31q",
        "colab": {
          "base_uri": "https://localhost:8080/"
        },
        "outputId": "39320460-20ac-40ac-804f-b8f66f4d6db4"
      },
      "source": [
        "# Challenge 2:\n",
        "# Add comments to the program below. Add comments in two lines. \n",
        "# Code below is a variable named \"a\" \n",
        "# The variable contains a string that prints out as \" Hello Brenda\"\n",
        "\n",
        "a = \"Hello Brenda!\"\n",
        "\n",
        "\n",
        "print(a)\n"
      ],
      "execution_count": null,
      "outputs": [
        {
          "output_type": "stream",
          "text": [
            "Hello Brenda!\n"
          ],
          "name": "stdout"
        }
      ]
    },
    {
      "cell_type": "code",
      "metadata": {
        "id": "RsAK7Vfmj6Pi",
        "colab": {
          "base_uri": "https://localhost:8080/"
        },
        "outputId": "cc823e25-e427-485d-e86f-26cb3650b27c"
      },
      "source": [
        "# Challenge 3:\n",
        "# Run the code below then try to figure out what happens.\n",
        "# Then from your understanding, provide a documentation to the program\n",
        "# NB: By documentation we mean add comments to the program \n",
        "# to help the reader to understand the program.\n",
        "# Hint: Explain each line of the program.\n",
        "\n",
        "\n",
        "\n",
        "\n",
        "\n",
        "# Creating a variable named \"months\"that contains a list of  the twelve months of the year\n",
        "months = ['January', 'February', 'March', 'April', 'May', 'June', 'July','August','September','October', 'November','December']\n",
        "# Creating a function named \"showCalender\" that contains the input parameter \"months\"\n",
        "def showCalender(months):\n",
        "# Using the for loop to execute from the list \"months\" where it iterates over the list \n",
        "    for month in months:\n",
        "# Printing out each month in the list \"months\"\n",
        "        print(month)\n",
        "        \n",
        " # Code will print out the function as defined by showCalender which is each month in the list \"months\"       \n",
        "showCalender(months)"
      ],
      "execution_count": null,
      "outputs": [
        {
          "output_type": "stream",
          "text": [
            "January\n",
            "February\n",
            "March\n",
            "April\n",
            "May\n",
            "June\n",
            "July\n",
            "August\n",
            "September\n",
            "October\n",
            "November\n",
            "December\n"
          ],
          "name": "stdout"
        }
      ]
    },
    {
      "cell_type": "markdown",
      "metadata": {
        "id": "enegx82E43R0"
      },
      "source": [
        "## 1.3 Variables"
      ]
    },
    {
      "cell_type": "markdown",
      "metadata": {
        "id": "BkeWKmaiVZrw"
      },
      "source": [
        "The next thing we will learn is a variable. This is simply a container that we can use to store a value. This value can be a number, a character, a string (which is just a set of characters), a list (we will learn this, a dictionary - we will also learn this), etc. "
      ]
    },
    {
      "cell_type": "markdown",
      "metadata": {
        "id": "MNf-A-Vu_aPR"
      },
      "source": [
        "In python, we would create a variable and store a value at the same time, just as shown in the following example."
      ]
    },
    {
      "cell_type": "code",
      "metadata": {
        "id": "dnmsWMx8_SUA"
      },
      "source": [
        "# Example 1\n",
        "# We store the value 10 in a variable p. In programming we say that \"we are assigning the value 10 to p\"\n",
        "# Running this cell won't output anything. Why? You can discuss this with your peer. \n",
        "# If you haven't figure it out, then go on to the next example and you'll know why\n",
        "# Because we have to print out p in order to get the output from the variable\n",
        "p = 10"
      ],
      "execution_count": null,
      "outputs": []
    },
    {
      "cell_type": "code",
      "metadata": {
        "id": "4jZQErLZVd_y",
        "colab": {
          "base_uri": "https://localhost:8080/"
        },
        "outputId": "ea84a920-bd80-4977-c832-f0bdd86c196a"
      },
      "source": [
        "# Example 2\n",
        "# So as to create a variable we use the equals sign; =, like in the example below. \n",
        "# This sign is usually regarded to what is called an assignment operator.\n",
        "# How do we say what is happening to 5 and x below? We've learned this in\n",
        "# the previous example.\n",
        "# We have assigned the value 5 to x\n",
        "x = 5\n",
        "\n",
        "# Because we have assigned the value 5 to x, \n",
        "# we now need to print out and see whether x has that value. \n",
        "# Lets print out x below this line using the print() function below\n",
        "#\n",
        "print(x)"
      ],
      "execution_count": null,
      "outputs": [
        {
          "output_type": "stream",
          "text": [
            "5\n"
          ],
          "name": "stdout"
        }
      ]
    },
    {
      "cell_type": "code",
      "metadata": {
        "id": "zitN-ocgVqsF",
        "colab": {
          "base_uri": "https://localhost:8080/"
        },
        "outputId": "e348785c-1fb4-4703-9977-272b0bfb17be"
      },
      "source": [
        "# Example 3\n",
        "# Nice, Work now on this challenge: \n",
        "# Create a savings variable with the value 1000 \n",
        "#\n",
        "Savings=1000\n",
        "# Then print this savings variable below this line;\n",
        "print(Savings)"
      ],
      "execution_count": null,
      "outputs": [
        {
          "output_type": "stream",
          "text": [
            "1000\n"
          ],
          "name": "stdout"
        }
      ]
    },
    {
      "cell_type": "code",
      "metadata": {
        "id": "Mjj8BXlNYcPx",
        "colab": {
          "base_uri": "https://localhost:8080/"
        },
        "outputId": "7642c088-7814-414a-a3ce-19369583361c"
      },
      "source": [
        "# Example 4\n",
        "# Now uncomment the below lines to print a, \n",
        "# then later uncomment b = 5 and later uncomment print(b)\n",
        "# Do note what happens\n",
        "#\n",
        "\n",
        "a = 10\n",
        "\n",
        "print(a)\n",
        "\n",
        "b = 5\n",
        "\n",
        "print(b)"
      ],
      "execution_count": null,
      "outputs": [
        {
          "output_type": "stream",
          "text": [
            "10\n",
            "5\n"
          ],
          "name": "stdout"
        }
      ]
    },
    {
      "cell_type": "markdown",
      "metadata": {
        "id": "O8SLfCskkHv4"
      },
      "source": [
        "### <font color = 'green'>  1.3 Challenges </font>"
      ]
    },
    {
      "cell_type": "code",
      "metadata": {
        "id": "313rKbkAkKcR",
        "colab": {
          "base_uri": "https://localhost:8080/"
        },
        "outputId": "669b7262-5590-4569-f917-ff72ec7c975f"
      },
      "source": [
        "# Challenge 1\n",
        "# Assign the book Harry Potter and the Deathly Hollows to the variable author\n",
        "#\n",
        "author= \"Harry Potter\" , \"Deathly Hollows\"\n",
        "print(author)"
      ],
      "execution_count": null,
      "outputs": [
        {
          "output_type": "stream",
          "text": [
            "('Harry Potter', 'Deathly Hollows')\n"
          ],
          "name": "stdout"
        }
      ]
    },
    {
      "cell_type": "code",
      "metadata": {
        "id": "3PN6Ef_gkK39",
        "colab": {
          "base_uri": "https://localhost:8080/"
        },
        "outputId": "bf3dc68e-17fa-4113-d368-582fef0181b3"
      },
      "source": [
        "# Challenge 2\n",
        "# Fix the following code the run the cell\n",
        "#\n",
        "Einstein= \"7_quote\"\n",
        "print(Einstein)"
      ],
      "execution_count": null,
      "outputs": [
        {
          "output_type": "stream",
          "text": [
            "7_quote\n"
          ],
          "name": "stdout"
        }
      ]
    },
    {
      "cell_type": "code",
      "metadata": {
        "id": "IUdjEiyAkKpE",
        "colab": {
          "base_uri": "https://localhost:8080/"
        },
        "outputId": "5146529d-9866-4cbb-b1a0-415b042fd456"
      },
      "source": [
        "# Challenge 3\n",
        "# Fix the following code the run the cell\n",
        "#\n",
        "second_number = 400\n",
        "print(second_number)"
      ],
      "execution_count": null,
      "outputs": [
        {
          "output_type": "stream",
          "text": [
            "400\n"
          ],
          "name": "stdout"
        }
      ]
    },
    {
      "cell_type": "markdown",
      "metadata": {
        "id": "UgmQhU5qeG8x"
      },
      "source": [
        "## 1.4 Operators"
      ]
    },
    {
      "cell_type": "code",
      "metadata": {
        "id": "Rz2NNvZmYcP0",
        "colab": {
          "base_uri": "https://localhost:8080/"
        },
        "outputId": "8da8a4f2-9f6a-4961-b28e-3d56fc3ade3a"
      },
      "source": [
        "# Example 1\n",
        "# In this section, we are going to use the variable a and b to perform \n",
        "# some arithmetic operations. Variable values or the variables from the above cell are retained \n",
        "# and can be used with the values that they were assigned to. \n",
        "# We will learn more about this when we run the lines below.\n",
        "# Let's run this cell once then \n",
        "# Uncomment the lines below to see the effect for multiplication, division and substraction \n",
        "#\n",
        "\n",
        "print(a + b)\n",
        "\n",
        "print(a * b)\n",
        "\n",
        "print(a / b)\n",
        "\n",
        "print(a - b)"
      ],
      "execution_count": null,
      "outputs": [
        {
          "output_type": "stream",
          "text": [
            "15\n",
            "50\n",
            "2.0\n",
            "5\n"
          ],
          "name": "stdout"
        }
      ]
    },
    {
      "cell_type": "code",
      "metadata": {
        "id": "w7UUv925YcP2",
        "colab": {
          "base_uri": "https://localhost:8080/"
        },
        "outputId": "88cde499-81d2-41d7-cf99-848e70cede9d"
      },
      "source": [
        "# Example 2\n",
        "# What would happen if we assigned the value of a + b to a. \n",
        "# Then try to come up with the answer in your mind \n",
        "# before uncommenting the line below;\n",
        "# \n",
        "\n",
        "a = a + b\n",
        "\n",
        "print(a)"
      ],
      "execution_count": null,
      "outputs": [
        {
          "output_type": "stream",
          "text": [
            "15\n"
          ],
          "name": "stdout"
        }
      ]
    },
    {
      "cell_type": "code",
      "metadata": {
        "id": "yVolQ1lCYcP5",
        "colab": {
          "base_uri": "https://localhost:8080/"
        },
        "outputId": "8b6726e9-34a3-4b0e-843d-09a3e473eacc"
      },
      "source": [
        "# Example 3\n",
        "# Nice. Now we will introduce a rather unfamiliar operator that we normally use in python.\n",
        "# This operator is called the increment operator \n",
        "# \n",
        "\n",
        "a += b\n",
        "\n",
        "print(a)\n",
        "\n",
        "# Try using the decrement operator below. The increment operator is -=\n",
        "a-=b\n",
        "print(a)"
      ],
      "execution_count": null,
      "outputs": [
        {
          "output_type": "stream",
          "text": [
            "25\n",
            "20\n"
          ],
          "name": "stdout"
        }
      ]
    },
    {
      "cell_type": "markdown",
      "metadata": {
        "id": "VoM4VEWeTxue"
      },
      "source": [
        "As you have seen, python is perfectly suited to do basic calculations. Apart from addition, subtraction, multiplication and division, there is also support for more advanced operations such as:\n",
        "\n",
        "\n",
        "*   Exponentiation:  This operator raises the number to its left to the power of the number to its right. For example 4**2 will give 16.\n",
        "*   Modulo: %. This operator returns the remainder of the division of the number to the left by the number on its right. For example 18 % 7 equals 4."
      ]
    },
    {
      "cell_type": "code",
      "metadata": {
        "id": "s6fPLiHaTJs7",
        "colab": {
          "base_uri": "https://localhost:8080/"
        },
        "outputId": "d932d03a-e042-4cf6-c7dc-f6e83700d72d"
      },
      "source": [
        "# Example 4\n",
        "# Lets uncomment the lines below to Exponentiation and then \n",
        "#\n",
        "\n",
        "print(18 % 7)\n",
        "print(4 ** 2)"
      ],
      "execution_count": null,
      "outputs": [
        {
          "output_type": "stream",
          "text": [
            "4\n",
            "16\n"
          ],
          "name": "stdout"
        }
      ]
    },
    {
      "cell_type": "markdown",
      "metadata": {
        "id": "8MEIfFSclWvn"
      },
      "source": [
        "### <font color = 'green'> 1.4 Challenges </font>"
      ]
    },
    {
      "cell_type": "code",
      "metadata": {
        "id": "iILThnq6laDQ",
        "colab": {
          "base_uri": "https://localhost:8080/"
        },
        "outputId": "1dff1b75-b1c4-4d30-8fb5-59f1a33c242b"
      },
      "source": [
        "# Challenge 1\n",
        "# Three persons have three notes of Ksh.50, Ksh.100 and Ksh.500.\n",
        "# Create three variables; person 1, person 2 and person 3 then \n",
        "# Find out the average of their money and display it below.\n",
        "# \n",
        "Person1= 50\n",
        "Person2= 100\n",
        "Person3= 500\n",
        "x= (Person1 + Person2 + Person3)/3\n",
        "print(x)"
      ],
      "execution_count": null,
      "outputs": [
        {
          "output_type": "stream",
          "text": [
            "216.66666666666666\n"
          ],
          "name": "stdout"
        }
      ]
    },
    {
      "cell_type": "code",
      "metadata": {
        "id": "P9fCjPn9la7V",
        "colab": {
          "base_uri": "https://localhost:8080/"
        },
        "outputId": "d41bea8d-937c-43c5-ce42-27c0d92fb968"
      },
      "source": [
        "# Challenge 2\n",
        "# An online shop sells designer jeans and t-shirts. \n",
        "# Each jeans costs Ksh. 4500 and t-shirt costs Ksh. 2500.\n",
        "# Calculate the cost below if you were to buy 3 pairs of jeans and 6 t-shirts\n",
        "# using variables and operators.\n",
        "#\n",
        "Jeans=4500\n",
        "Tshirt=2500\n",
        "Cost= (3*Jeans) + (6*T_shirt)\n",
        "print(Cost)"
      ],
      "execution_count": null,
      "outputs": [
        {
          "output_type": "stream",
          "text": [
            "28500\n"
          ],
          "name": "stdout"
        }
      ]
    },
    {
      "cell_type": "code",
      "metadata": {
        "id": "NIDidtkllawY",
        "colab": {
          "base_uri": "https://localhost:8080/"
        },
        "outputId": "0225303d-7c67-4b6b-a26c-a4844abc467d"
      },
      "source": [
        "# Challenge 3\n",
        "# We have Ksh 1000, which you invest with a 10% return each year. \n",
        "# After one year, it's 1000 × 1.1 = 1100 shillings, and after two years \n",
        "# it's 1000 × 1.1 × 1.1 = 121. \n",
        "# Now, write code below to calculate how much money \n",
        "# you would end up with after 7 years.\n",
        "# How much is your Ksh. 1000 worth after 15 years?\n",
        "# ----------\n",
        "# Hint: Instead of calculating with the actual values, you can use variables instead. \n",
        "# The savings variable you've created in the previous exercise represents the Ksh 1000 you started with. \n",
        "# It's up to you to create a new variable to represent 1.1 and then redo the calculations!\n",
        "# ----------\n",
        "\n",
        "# We can recreate the savings variable that we will use below\n",
        "#\n",
        "savings = 1000\n",
        "\n",
        "# and create a growth_multiplier variable that is equal to 1.1.\n",
        "savings= 1000\n",
        "i= 1.1\n",
        "\n",
        "\n",
        "\n",
        "\n",
        "\n",
        "\n",
        "# Then create a result variable and equal it to the amount of money you saved after 7 years.\n",
        "v= savings*(i)**7\n",
        "\n",
        "# Then print out the value of result below\n",
        "print(v)\n",
        "# After 15 years\n",
        "Result=savings*(i)**15"
      ],
      "execution_count": null,
      "outputs": [
        {
          "output_type": "stream",
          "text": [
            "1948.7171000000012\n"
          ],
          "name": "stdout"
        }
      ]
    },
    {
      "cell_type": "code",
      "metadata": {
        "id": "awD2UmX_1VPa"
      },
      "source": [
        ""
      ],
      "execution_count": null,
      "outputs": []
    },
    {
      "cell_type": "markdown",
      "metadata": {
        "id": "wCNLWKgJeLJn"
      },
      "source": [
        "## 1.5 Input"
      ]
    },
    {
      "cell_type": "markdown",
      "metadata": {
        "id": "5ThAIuEX1UV8"
      },
      "source": [
        ""
      ]
    },
    {
      "cell_type": "code",
      "metadata": {
        "id": "KFoVX3qxUVX5",
        "colab": {
          "base_uri": "https://localhost:8080/"
        },
        "outputId": "ed430468-2045-4aad-8aaa-dfefa6dee027"
      },
      "source": [
        "# Example 1\n",
        "# The input() function allows for user input as shown\n",
        "# \n",
        "g = input(\"Enter a number: \") \n",
        "\n",
        "print (int(g) + (2))"
      ],
      "execution_count": null,
      "outputs": [
        {
          "output_type": "stream",
          "text": [
            "Enter a number: 5\n",
            "7\n"
          ],
          "name": "stdout"
        }
      ]
    },
    {
      "cell_type": "code",
      "metadata": {
        "id": "1nq-JtqvXI3h",
        "colab": {
          "base_uri": "https://localhost:8080/"
        },
        "outputId": "929cb6eb-534a-4e77-a807-c2a6d79400d0"
      },
      "source": [
        "# Example 2\n",
        "# Lets get the sum of two numbers from a user's input\n",
        "# \n",
        "x = input('Enter the first number: ')\n",
        "y = input('Enter the second number: ')\n",
        "\n",
        "print(x + y) "
      ],
      "execution_count": null,
      "outputs": [
        {
          "output_type": "stream",
          "text": [
            "Enter the first number: 7\n",
            "Enter the second number: 6\n",
            "76\n"
          ],
          "name": "stdout"
        }
      ]
    },
    {
      "cell_type": "code",
      "metadata": {
        "id": "_2nBPR_o3bgY",
        "colab": {
          "base_uri": "https://localhost:8080/"
        },
        "outputId": "5800b2c8-dd76-47ab-a722-aaabfb79ec61"
      },
      "source": [
        "# Example 3\n",
        "# Let's get the name and age of the user \n",
        "#\n",
        "\n",
        "# Prompting the user to tell us their name and displaying their name\n",
        "name = input(\"What's your name? \")\n",
        "print(\"Nice to meet you \" + name + \"!\")\n",
        "\n",
        "# Prompting the user to tell use their age \n",
        "age = input(\"Your age? \")\n",
        "\n",
        "# Displaying both their name and age\n",
        "# Hint: Try to remove str() and see what happens. We will learn more about datatype conversion later()\n",
        "# \n",
        "print(\"So, you are already \" + str(age) + \" years old, \" + name + \"!\")"
      ],
      "execution_count": null,
      "outputs": [
        {
          "output_type": "stream",
          "text": [
            "What's your name? Eileen\n",
            "Nice to meet you Eileen!\n",
            "Your age? 23\n",
            "So, you are already 23 years old, Eileen!\n"
          ],
          "name": "stdout"
        }
      ]
    },
    {
      "cell_type": "markdown",
      "metadata": {
        "id": "eEu2bBRRlo1e"
      },
      "source": [
        "### <font color = 'green'>  1.5 Challenges </font>"
      ]
    },
    {
      "cell_type": "code",
      "metadata": {
        "id": "RmNOhWeWlyLb",
        "colab": {
          "base_uri": "https://localhost:8080/"
        },
        "outputId": "a9b69ff8-2780-438c-9964-06ebd1ed0abf"
      },
      "source": [
        "# Challenge 1\n",
        "# Many people around the world think about their height in feet and inches \n",
        "# even here in Africa where many countries use the metric system. \n",
        "# Write a program reads the height in metres then converts it to\n",
        "# feet and inches. The program should display the equivalent \n",
        "# height in feet and height.\n",
        "# NB: You can look up the necessary conversion factors on the web.\n",
        "#\n",
        "height=input(\"What's your height in metres? \")\n",
        "height_feet=print (float(height) * float(3.281))"
      ],
      "execution_count": null,
      "outputs": [
        {
          "output_type": "stream",
          "text": [
            "What's your height in metres? 1.64\n",
            "5.38084\n"
          ],
          "name": "stdout"
        }
      ]
    },
    {
      "cell_type": "code",
      "metadata": {
        "id": "EdIZZ53Ml4Jx",
        "colab": {
          "base_uri": "https://localhost:8080/"
        },
        "outputId": "6d948e84-8354-4ce7-b5d8-cd7ee0088c37"
      },
      "source": [
        "# Challenge 2\n",
        "# Given a certain column of data that has radius, a data scientist would like\n",
        "# to compute the volume the respective cylinder and save the result to a new column.\n",
        "# Thus, write a program that reads the radius of cylinder, along with its height \n",
        "# from the user to calculate the volume in the console.\n",
        "# I have used 3.142 to represent pie in the volume formula\n",
        "# Formula is used for volume is V=πr2h\n",
        "\n",
        "\n",
        "b=int(input(\"enter the radius \"))\n",
        "c=int(input(\"enter the height \"))\n",
        "volume= print(float(3.142)*(b**2) * c) \n"
      ],
      "execution_count": null,
      "outputs": [
        {
          "output_type": "stream",
          "text": [
            "enter the radius 5\n",
            "enter the height 10\n",
            "785.5\n"
          ],
          "name": "stdout"
        }
      ]
    },
    {
      "cell_type": "code",
      "metadata": {
        "id": "EuzTUGQnl4tz",
        "colab": {
          "base_uri": "https://localhost:8080/"
        },
        "outputId": "183173b4-3e56-4d1d-b5f6-efea9eeb1e54"
      },
      "source": [
        "# Challenge 3\n",
        "# While paying for her parking fee of Ksh. 50 , Jane inserts a Note into \n",
        "# the paying machine and gets back her change. \n",
        "# Write a program that reads as input the note greater than Ksh. 200 \n",
        "# and returns change in notes of 100 and 50.\n",
        "# Use the knowledge of variables to printing, comments, operators \n",
        "# and input to print the no of denominations given\n",
        "# \n",
        "\n",
        "\n",
        "parking_fee=50\n",
        "print(parking_fee)\n",
        "amount=int(input(\"Enter the amount paid: \"))\n",
        "change1=((amount-parking_fee)/100)\n",
        "change2=(change1%50)\n",
        "\n",
        "if amount>200:\n",
        "  print(change1 and change2)\n",
        "\n",
        "\n",
        "\n",
        "\n",
        "   \n",
        "\n",
        "\n",
        "\n",
        "\n",
        "\n",
        "\n"
      ],
      "execution_count": 56,
      "outputs": [
        {
          "output_type": "stream",
          "text": [
            "50\n",
            "Enter the amount paid: 500\n",
            "4.5\n"
          ],
          "name": "stdout"
        }
      ]
    }
  ]
}